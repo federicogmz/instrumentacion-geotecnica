{
 "cells": [
  {
   "cell_type": "markdown",
   "metadata": {},
   "source": [
    "# 🐍 Clase 1: Introducción a Python para Ingeniería y Geotecnia\n",
    "¡Bienvenido/a a tu primera clase de Python! Descubre por qué este lenguaje es fundamental para ingenieros y cómo puede ayudarte a resolver problemas reales, automatizar procesos y analizar datos técnicos."
   ]
  },
  {
   "cell_type": "markdown",
   "metadata": {},
   "source": [
    "## 🚀 ¿Por qué aprender Python en ingeniería?\n",
    "Python es uno de los lenguajes de programación más populares y versátiles. Sus ventajas incluyen:\n",
    "\n",
    "- Sintaxis simple y clara (fácil de aprender y leer).\n",
    "- Gran comunidad y soporte en línea.\n",
    "- Ideal para análisis de datos, automatización, inteligencia artificial y más.\n",
    "- Compatible con herramientas que ya usas: Excel, bases de datos, sensores, etc."
   ]
  },
  {
   "cell_type": "markdown",
   "metadata": {},
   "source": [
    "![Lenguajes de programación más populares 2024](https://github.blog/wp-content/uploads/2024/10/GitHub-Octoverse-2024-top-programming-languages.png?w=1024&resize=1024%2C1024)"
   ]
  },
  {
   "cell_type": "markdown",
   "metadata": {},
   "source": [
    "## 🛠️ Aplicaciones de Python en Geotecnia e Ingeniería\n",
    "Python te permite:\n",
    "\n",
    "- Procesar grandes volúmenes de datos (como mediciones de instrumentación geotécnica).\n",
    "- Automatizar informes y tareas repetitivas.\n",
    "- Visualizar resultados de sensores o ensayos.\n",
    "- Integrarte con herramientas como Excel, AutoCAD, o software de modelado.\n",
    "\n",
    "👉 **Ejemplo**: Automatizar el análisis de datos de inclinómetros o piezómetros con `pandas` y `matplotlib`."
   ]
  },
  {
   "cell_type": "markdown",
   "metadata": {},
   "source": [
    "## 🧰 Herramientas y bibliotecas esenciales para ingeniería\n",
    "Durante el curso usaremos:\n",
    "\n",
    "- `numpy`: manejo numérico y de vectores.\n",
    "- `pandas`: manipulación de datos tabulares (como Excel).\n",
    "- `matplotlib` y `seaborn`: visualización de datos.\n",
    "- `scipy`: herramientas científicas avanzadas."
   ]
  },
  {
   "cell_type": "markdown",
   "metadata": {},
   "source": [
    "## ✨ Primeros pasos en Python: variables y tipos de datos\n",
    "Python puede manejar distintos tipos de información. Veamos algunos ejemplos:"
   ]
  },
  {
   "cell_type": "code",
   "execution_count": 1,
   "metadata": {},
   "outputs": [
    {
     "name": "stdout",
     "output_type": "stream",
     "text": [
      "Nombre: Juan, Tipo: <class 'str'>\n",
      "Edad: 30, Tipo: <class 'int'>\n",
      "Altura: 1.75, Tipo: <class 'float'>\n",
      "Es estudiante: True, Tipo: <class 'bool'>\n"
     ]
    }
   ],
   "source": [
    "# Variables y tipos de datos básicos\n",
    "nombre = \"Juan\"  # string\n",
    "edad = 30        # integer\n",
    "altura = 1.75    # float\n",
    "es_estudiante = True  # boolean\n",
    "\n",
    "print(f\"Nombre: {nombre}, Tipo: {type(nombre)}\")\n",
    "print(f\"Edad: {edad}, Tipo: {type(edad)}\")\n",
    "print(f\"Altura: {altura}, Tipo: {type(altura)}\")\n",
    "print(f\"Es estudiante: {es_estudiante}, Tipo: {type(es_estudiante)}\")"
   ]
  },
  {
   "cell_type": "markdown",
   "metadata": {},
   "source": [
    "## ➕ Operaciones básicas y estructuras de control\n",
    "Realiza operaciones matemáticas y controla el flujo de tu programa con condicionales:"
   ]
  },
  {
   "cell_type": "code",
   "execution_count": 2,
   "metadata": {},
   "outputs": [
    {
     "name": "stdout",
     "output_type": "stream",
     "text": [
      "Suma: 13\n",
      "Resta: 7\n",
      "Multiplicación: 30\n",
      "División: 3.3333333333333335\n",
      "División entera: 3\n",
      "Módulo: 1\n",
      "Potencia: 1000\n"
     ]
    }
   ],
   "source": [
    "# Operaciones básicas\n",
    "a = 10\n",
    "b = 3\n",
    "\n",
    "suma = a + b\n",
    "resta = a - b\n",
    "multiplicacion = a * b\n",
    "division = a / b\n",
    "division_entera = a // b\n",
    "modulo = a % b\n",
    "potencia = a ** b\n",
    "\n",
    "print(f\"Suma: {suma}\")\n",
    "print(f\"Resta: {resta}\")\n",
    "print(f\"Multiplicación: {multiplicacion}\")\n",
    "print(f\"División: {division}\")\n",
    "print(f\"División entera: {division_entera}\")\n",
    "print(f\"Módulo: {modulo}\")\n",
    "print(f\"Potencia: {potencia}\")"
   ]
  },
  {
   "cell_type": "code",
   "execution_count": 3,
   "metadata": {},
   "outputs": [
    {
     "name": "stdout",
     "output_type": "stream",
     "text": [
      "La temperatura es agradable\n"
     ]
    }
   ],
   "source": [
    "# Estructuras de control: condicionales\n",
    "temperatura = 25\n",
    "\n",
    "if temperatura > 30:\n",
    "    print(\"Hace calor\")\n",
    "elif temperatura > 20:\n",
    "    print(\"La temperatura es agradable\")\n",
    "else:\n",
    "    print(\"Hace frío\")"
   ]
  },
  {
   "cell_type": "code",
   "execution_count": 4,
   "metadata": {},
   "outputs": [
    {
     "name": "stdout",
     "output_type": "stream",
     "text": [
      "La temperatura es muy caliente o muy fría.\n"
     ]
    }
   ],
   "source": [
    "# Estructuras de control: condicionales\n",
    "temperatura = 20\n",
    "\n",
    "if (temperatura > 25) and (temperatura < 30):\n",
    "    print(\"La temperatura es agradable.\")\n",
    "elif (temperatura >= 30) or (temperatura <= 25):\n",
    "    print(\"La temperatura es muy caliente o muy fría.\")"
   ]
  },
  {
   "cell_type": "markdown",
   "metadata": {},
   "source": [
    "## 📊 Listas y manipulación de datos\n",
    "Las listas permiten almacenar y procesar colecciones de datos, como lecturas de sensores:"
   ]
  },
  {
   "cell_type": "code",
   "execution_count": 5,
   "metadata": {},
   "outputs": [
    {
     "name": "stdout",
     "output_type": "stream",
     "text": [
      "Lecturas del sensor: [100, 120, 115, 130, 125]\n",
      "Promedio: 118.00\n",
      "Máximo: 130\n",
      "Mínimo: 100\n"
     ]
    }
   ],
   "source": [
    "# Ejemplo\n",
    "lecturas_sensor = [100, 120, 115, 130, 125]\n",
    "\n",
    "total = sum(lecturas_sensor)\n",
    "promedio = total / len(lecturas_sensor)\n",
    "maximo = max(lecturas_sensor)\n",
    "minimo = min(lecturas_sensor)\n",
    "\n",
    "print(f\"Lecturas del sensor: {lecturas_sensor}\")\n",
    "print(f\"Promedio: {promedio:.2f}\")\n",
    "print(f\"Máximo: {maximo}\")\n",
    "print(f\"Mínimo: {minimo}\")"
   ]
  },
  {
   "cell_type": "code",
   "execution_count": 6,
   "metadata": {},
   "outputs": [
    {
     "name": "stdout",
     "output_type": "stream",
     "text": [
      "100 está por debajo del promedio\n",
      "120 está por encima del promedio\n",
      "115 está por debajo del promedio\n",
      "130 está por encima del promedio\n",
      "125 está por encima del promedio\n"
     ]
    }
   ],
   "source": [
    "# Ejercicio: Clasificar las lecturas\n",
    "for lectura in lecturas_sensor:\n",
    "    if lectura > promedio:\n",
    "        print(f\"{lectura} está por encima del promedio\")\n",
    "    elif lectura < promedio:\n",
    "        print(f\"{lectura} está por debajo del promedio\")\n",
    "    else:\n",
    "        print(f\"{lectura} es igual al promedio\")"
   ]
  },
  {
   "cell_type": "markdown",
   "metadata": {},
   "source": [
    "![Condicionales en Python](https://www.programiz.com/sites/tutorial2program/files/python-if-else.png)"
   ]
  },
  {
   "cell_type": "markdown",
   "metadata": {},
   "source": [
    "## 🧩 Funciones en Python\n",
    "Las funciones permiten reutilizar código y organizar mejor tus programas."
   ]
  },
  {
   "cell_type": "code",
   "execution_count": null,
   "metadata": {},
   "outputs": [],
   "source": [
    "# Funciones\n",
    "def calcular_presion(fuerza, area):\n",
    "    return fuerza / area\n",
    "\n",
    "# Uso de la función\n",
    "fuerza = 1000  # N\n",
    "area = 0.5  # m^2\n",
    "presion = calcular_presion(fuerza, area)\n",
    "print(f\"Presión: {presion} Pa\")"
   ]
  },
  {
   "cell_type": "markdown",
   "metadata": {},
   "source": [
    "![Crear función en Python](https://www.programiz.com/sites/tutorial2program/files/create-function-python.png)"
   ]
  },
  {
   "cell_type": "markdown",
   "metadata": {},
   "source": [
    "## 📝 Ejercicio práctico: Promedio de una lista\n",
    "Crea una función para calcular el promedio de los valores en una lista."
   ]
  },
  {
   "cell_type": "code",
   "execution_count": null,
   "metadata": {},
   "outputs": [],
   "source": [
    "# Listas\n",
    "lecturas_sensor = [100.3, 120.6, 115.1, 130.5, 125.2]\n",
    "print(\"Lecturas del sensor:\", lecturas_sensor)\n",
    "\n",
    "def calcular_promedio(lista):\n",
    "  suma = sum(lista)\n",
    "  numero_elementos = len(lista)\n",
    "  promedio = suma / numero_elementos\n",
    "  return promedio\n",
    "\n",
    "promedio = calcular_promedio(lecturas_sensor)\n",
    "print(f\"Promedio: {promedio:.1f}\")\n",
    "\n",
    "# Obtener un elemento\n",
    "print(f\"Tercer elemento: {lecturas_sensor[2]}\")\n",
    "\n",
    "# Slice de lista\n",
    "print(f\"Primeros tres elementos: {lecturas_sensor[:3]}\")"
   ]
  },
  {
   "cell_type": "markdown",
   "metadata": {},
   "source": [
    "# 📈 Introducción al análisis de datos en Python"
   ]
  },
  {
   "cell_type": "markdown",
   "metadata": {},
   "source": [
    "## 📦 Paquetes y librerías: ¿qué son y cómo se usan?\n",
    "En Python, un **paquete** o **librería** es un conjunto de módulos (archivos `.py`) que contienen funciones, clases y variables predefinidas para resolver tareas específicas de manera eficiente.\n",
    "\n",
    "Algunas de las librerías más importantes para el análisis de datos en instrumentación geotécnica son:\n",
    "\n",
    "- **`numpy`**: Operaciones matemáticas y manejo de arreglos numéricos.\n",
    "- **`pandas`**: Manejo y análisis de datos estructurados (como tablas).\n",
    "- **`matplotlib`** y **`seaborn`**: Visualización de datos.\n",
    "- **`scipy`**: Herramientas científicas avanzadas.\n",
    "\n",
    "Para usarlas, primero debes **importarlas** con la palabra clave `import`:\n",
    "\n",
    "```python\n",
    "import numpy as np  # Importa la librería numpy y le asigna el alias 'np'\n",
    "import pandas as pd  # Importa pandas y le asigna el alias 'pd'\n",
    "import matplotlib.pyplot as plt  # Importa pyplot de matplotlib para crear gráficos\n",
    "```"
   ]
  },
  {
   "cell_type": "markdown",
   "metadata": {},
   "source": [
    "## 🔢 Primeros pasos con pandas"
   ]
  },
  {
   "cell_type": "code",
   "execution_count": 8,
   "metadata": {},
   "outputs": [
    {
     "data": {
      "text/html": [
       "<div>\n",
       "<style scoped>\n",
       "    .dataframe tbody tr th:only-of-type {\n",
       "        vertical-align: middle;\n",
       "    }\n",
       "\n",
       "    .dataframe tbody tr th {\n",
       "        vertical-align: top;\n",
       "    }\n",
       "\n",
       "    .dataframe thead th {\n",
       "        text-align: right;\n",
       "    }\n",
       "</style>\n",
       "<table border=\"1\" class=\"dataframe\">\n",
       "  <thead>\n",
       "    <tr style=\"text-align: right;\">\n",
       "      <th></th>\n",
       "      <th>Unnamed: 0</th>\n",
       "      <th>p1</th>\n",
       "      <th>p2</th>\n",
       "    </tr>\n",
       "  </thead>\n",
       "  <tbody>\n",
       "    <tr>\n",
       "      <th>0</th>\n",
       "      <td>2019-05-03 16:00:00</td>\n",
       "      <td>0.0</td>\n",
       "      <td>0.0</td>\n",
       "    </tr>\n",
       "    <tr>\n",
       "      <th>1</th>\n",
       "      <td>2019-05-03 16:05:00</td>\n",
       "      <td>0.0</td>\n",
       "      <td>0.0</td>\n",
       "    </tr>\n",
       "    <tr>\n",
       "      <th>2</th>\n",
       "      <td>2019-05-03 16:10:00</td>\n",
       "      <td>0.0</td>\n",
       "      <td>0.0</td>\n",
       "    </tr>\n",
       "    <tr>\n",
       "      <th>3</th>\n",
       "      <td>2019-05-03 16:15:00</td>\n",
       "      <td>0.0</td>\n",
       "      <td>0.0</td>\n",
       "    </tr>\n",
       "    <tr>\n",
       "      <th>4</th>\n",
       "      <td>2019-05-03 16:20:00</td>\n",
       "      <td>0.0</td>\n",
       "      <td>0.0</td>\n",
       "    </tr>\n",
       "  </tbody>\n",
       "</table>\n",
       "</div>"
      ],
      "text/plain": [
       "            Unnamed: 0   p1   p2\n",
       "0  2019-05-03 16:00:00  0.0  0.0\n",
       "1  2019-05-03 16:05:00  0.0  0.0\n",
       "2  2019-05-03 16:10:00  0.0  0.0\n",
       "3  2019-05-03 16:15:00  0.0  0.0\n",
       "4  2019-05-03 16:20:00  0.0  0.0"
      ]
     },
     "execution_count": 8,
     "metadata": {},
     "output_type": "execute_result"
    }
   ],
   "source": [
    "# Pandas\n",
    "!pip install numpy pandas --quiet\n",
    "\n",
    "import numpy as np\n",
    "import pandas as pd\n",
    "\n",
    "df_pluviometro = pd.read_csv(\"../data/pluviometro.csv\")\n",
    "df_pluviometro.head()"
   ]
  },
  {
   "cell_type": "markdown",
   "metadata": {},
   "source": [
    "![Pandas Example](https://media.geeksforgeeks.org/wp-content/uploads/finallpandas.png)"
   ]
  },
  {
   "cell_type": "code",
   "execution_count": 9,
   "metadata": {},
   "outputs": [
    {
     "data": {
      "text/html": [
       "<div>\n",
       "<style scoped>\n",
       "    .dataframe tbody tr th:only-of-type {\n",
       "        vertical-align: middle;\n",
       "    }\n",
       "\n",
       "    .dataframe tbody tr th {\n",
       "        vertical-align: top;\n",
       "    }\n",
       "\n",
       "    .dataframe thead th {\n",
       "        text-align: right;\n",
       "    }\n",
       "</style>\n",
       "<table border=\"1\" class=\"dataframe\">\n",
       "  <thead>\n",
       "    <tr style=\"text-align: right;\">\n",
       "      <th></th>\n",
       "      <th>p1</th>\n",
       "      <th>p2</th>\n",
       "    </tr>\n",
       "  </thead>\n",
       "  <tbody>\n",
       "    <tr>\n",
       "      <th>2019-05-03 16:00:00</th>\n",
       "      <td>0.0</td>\n",
       "      <td>0.0</td>\n",
       "    </tr>\n",
       "    <tr>\n",
       "      <th>2019-05-03 16:05:00</th>\n",
       "      <td>0.0</td>\n",
       "      <td>0.0</td>\n",
       "    </tr>\n",
       "    <tr>\n",
       "      <th>2019-05-03 16:10:00</th>\n",
       "      <td>0.0</td>\n",
       "      <td>0.0</td>\n",
       "    </tr>\n",
       "    <tr>\n",
       "      <th>2019-05-03 16:15:00</th>\n",
       "      <td>0.0</td>\n",
       "      <td>0.0</td>\n",
       "    </tr>\n",
       "    <tr>\n",
       "      <th>2019-05-03 16:20:00</th>\n",
       "      <td>0.0</td>\n",
       "      <td>0.0</td>\n",
       "    </tr>\n",
       "  </tbody>\n",
       "</table>\n",
       "</div>"
      ],
      "text/plain": [
       "                      p1   p2\n",
       "2019-05-03 16:00:00  0.0  0.0\n",
       "2019-05-03 16:05:00  0.0  0.0\n",
       "2019-05-03 16:10:00  0.0  0.0\n",
       "2019-05-03 16:15:00  0.0  0.0\n",
       "2019-05-03 16:20:00  0.0  0.0"
      ]
     },
     "execution_count": 9,
     "metadata": {},
     "output_type": "execute_result"
    }
   ],
   "source": [
    "df_pluviometro = pd.read_csv(\"../data/pluviometro.csv\", index_col=0)\n",
    "df_pluviometro.head()"
   ]
  },
  {
   "cell_type": "code",
   "execution_count": 10,
   "metadata": {},
   "outputs": [
    {
     "name": "stdout",
     "output_type": "stream",
     "text": [
      "object\n",
      "datetime64[ns]\n"
     ]
    }
   ],
   "source": [
    "print(df_pluviometro.index.dtype)\n",
    "\n",
    "df_pluviometro.index = pd.to_datetime(df_pluviometro.index)\n",
    "\n",
    "print(df_pluviometro.index.dtype)"
   ]
  },
  {
   "cell_type": "code",
   "execution_count": 11,
   "metadata": {},
   "outputs": [
    {
     "name": "stdout",
     "output_type": "stream",
     "text": [
      "Lecturas del pluviómetro p1:\n"
     ]
    },
    {
     "data": {
      "text/plain": [
       "2019-05-03 16:00:00    0.0\n",
       "2019-05-03 16:05:00    0.0\n",
       "2019-05-03 16:10:00    0.0\n",
       "2019-05-03 16:15:00    0.0\n",
       "2019-05-03 16:20:00    0.0\n",
       "                      ... \n",
       "2021-07-07 23:40:00    0.0\n",
       "2021-07-07 23:45:00    0.0\n",
       "2021-07-07 23:50:00    0.0\n",
       "2021-07-07 23:55:00    0.0\n",
       "2021-07-08 00:00:00    0.0\n",
       "Name: p1, Length: 229345, dtype: float64"
      ]
     },
     "execution_count": 11,
     "metadata": {},
     "output_type": "execute_result"
    }
   ],
   "source": [
    "# Acceder a una columna\n",
    "print(\"Lecturas del pluviómetro p1:\")\n",
    "df_pluviometro['p1']"
   ]
  },
  {
   "cell_type": "code",
   "execution_count": 12,
   "metadata": {},
   "outputs": [
    {
     "name": "stdout",
     "output_type": "stream",
     "text": [
      "Estadísticas descriptivas:\n"
     ]
    },
    {
     "data": {
      "text/html": [
       "<div>\n",
       "<style scoped>\n",
       "    .dataframe tbody tr th:only-of-type {\n",
       "        vertical-align: middle;\n",
       "    }\n",
       "\n",
       "    .dataframe tbody tr th {\n",
       "        vertical-align: top;\n",
       "    }\n",
       "\n",
       "    .dataframe thead th {\n",
       "        text-align: right;\n",
       "    }\n",
       "</style>\n",
       "<table border=\"1\" class=\"dataframe\">\n",
       "  <thead>\n",
       "    <tr style=\"text-align: right;\">\n",
       "      <th></th>\n",
       "      <th>p1</th>\n",
       "      <th>p2</th>\n",
       "    </tr>\n",
       "  </thead>\n",
       "  <tbody>\n",
       "    <tr>\n",
       "      <th>count</th>\n",
       "      <td>229345.000000</td>\n",
       "      <td>229345.000000</td>\n",
       "    </tr>\n",
       "    <tr>\n",
       "      <th>mean</th>\n",
       "      <td>0.013085</td>\n",
       "      <td>0.012171</td>\n",
       "    </tr>\n",
       "    <tr>\n",
       "      <th>std</th>\n",
       "      <td>0.112724</td>\n",
       "      <td>0.106910</td>\n",
       "    </tr>\n",
       "    <tr>\n",
       "      <th>min</th>\n",
       "      <td>0.000000</td>\n",
       "      <td>0.000000</td>\n",
       "    </tr>\n",
       "    <tr>\n",
       "      <th>25%</th>\n",
       "      <td>0.000000</td>\n",
       "      <td>0.000000</td>\n",
       "    </tr>\n",
       "    <tr>\n",
       "      <th>50%</th>\n",
       "      <td>0.000000</td>\n",
       "      <td>0.000000</td>\n",
       "    </tr>\n",
       "    <tr>\n",
       "      <th>75%</th>\n",
       "      <td>0.000000</td>\n",
       "      <td>0.000000</td>\n",
       "    </tr>\n",
       "    <tr>\n",
       "      <th>max</th>\n",
       "      <td>6.942667</td>\n",
       "      <td>6.942667</td>\n",
       "    </tr>\n",
       "  </tbody>\n",
       "</table>\n",
       "</div>"
      ],
      "text/plain": [
       "                  p1             p2\n",
       "count  229345.000000  229345.000000\n",
       "mean        0.013085       0.012171\n",
       "std         0.112724       0.106910\n",
       "min         0.000000       0.000000\n",
       "25%         0.000000       0.000000\n",
       "50%         0.000000       0.000000\n",
       "75%         0.000000       0.000000\n",
       "max         6.942667       6.942667"
      ]
     },
     "execution_count": 12,
     "metadata": {},
     "output_type": "execute_result"
    }
   ],
   "source": [
    "# Estadísticas descriptivas\n",
    "print(\"Estadísticas descriptivas:\")\n",
    "df_pluviometro.describe()"
   ]
  },
  {
   "cell_type": "code",
   "execution_count": 13,
   "metadata": {},
   "outputs": [
    {
     "name": "stdout",
     "output_type": "stream",
     "text": [
      "Lecturas del pluviómetro > 0:\n"
     ]
    },
    {
     "data": {
      "text/html": [
       "<div>\n",
       "<style scoped>\n",
       "    .dataframe tbody tr th:only-of-type {\n",
       "        vertical-align: middle;\n",
       "    }\n",
       "\n",
       "    .dataframe tbody tr th {\n",
       "        vertical-align: top;\n",
       "    }\n",
       "\n",
       "    .dataframe thead th {\n",
       "        text-align: right;\n",
       "    }\n",
       "</style>\n",
       "<table border=\"1\" class=\"dataframe\">\n",
       "  <thead>\n",
       "    <tr style=\"text-align: right;\">\n",
       "      <th></th>\n",
       "      <th>p1</th>\n",
       "      <th>p2</th>\n",
       "    </tr>\n",
       "  </thead>\n",
       "  <tbody>\n",
       "    <tr>\n",
       "      <th>2019-05-08 07:20:00</th>\n",
       "      <td>0.084667</td>\n",
       "      <td>0.084667</td>\n",
       "    </tr>\n",
       "    <tr>\n",
       "      <th>2019-05-08 07:25:00</th>\n",
       "      <td>0.169333</td>\n",
       "      <td>0.169333</td>\n",
       "    </tr>\n",
       "    <tr>\n",
       "      <th>2019-05-08 07:30:00</th>\n",
       "      <td>0.254000</td>\n",
       "      <td>0.254000</td>\n",
       "    </tr>\n",
       "    <tr>\n",
       "      <th>2019-05-08 07:35:00</th>\n",
       "      <td>0.254000</td>\n",
       "      <td>0.254000</td>\n",
       "    </tr>\n",
       "    <tr>\n",
       "      <th>2019-05-08 07:40:00</th>\n",
       "      <td>0.169333</td>\n",
       "      <td>0.169333</td>\n",
       "    </tr>\n",
       "    <tr>\n",
       "      <th>...</th>\n",
       "      <td>...</td>\n",
       "      <td>...</td>\n",
       "    </tr>\n",
       "    <tr>\n",
       "      <th>2021-07-05 00:05:00</th>\n",
       "      <td>0.084667</td>\n",
       "      <td>0.084667</td>\n",
       "    </tr>\n",
       "    <tr>\n",
       "      <th>2021-07-05 00:10:00</th>\n",
       "      <td>0.084667</td>\n",
       "      <td>0.084667</td>\n",
       "    </tr>\n",
       "    <tr>\n",
       "      <th>2021-07-05 00:55:00</th>\n",
       "      <td>0.084667</td>\n",
       "      <td>0.000000</td>\n",
       "    </tr>\n",
       "    <tr>\n",
       "      <th>2021-07-05 01:00:00</th>\n",
       "      <td>0.084667</td>\n",
       "      <td>0.000000</td>\n",
       "    </tr>\n",
       "    <tr>\n",
       "      <th>2021-07-05 01:05:00</th>\n",
       "      <td>0.084667</td>\n",
       "      <td>0.000000</td>\n",
       "    </tr>\n",
       "  </tbody>\n",
       "</table>\n",
       "<p>10836 rows × 2 columns</p>\n",
       "</div>"
      ],
      "text/plain": [
       "                           p1        p2\n",
       "2019-05-08 07:20:00  0.084667  0.084667\n",
       "2019-05-08 07:25:00  0.169333  0.169333\n",
       "2019-05-08 07:30:00  0.254000  0.254000\n",
       "2019-05-08 07:35:00  0.254000  0.254000\n",
       "2019-05-08 07:40:00  0.169333  0.169333\n",
       "...                       ...       ...\n",
       "2021-07-05 00:05:00  0.084667  0.084667\n",
       "2021-07-05 00:10:00  0.084667  0.084667\n",
       "2021-07-05 00:55:00  0.084667  0.000000\n",
       "2021-07-05 01:00:00  0.084667  0.000000\n",
       "2021-07-05 01:05:00  0.084667  0.000000\n",
       "\n",
       "[10836 rows x 2 columns]"
      ]
     },
     "execution_count": 13,
     "metadata": {},
     "output_type": "execute_result"
    }
   ],
   "source": [
    "# Filtrado\n",
    "print(\"Lecturas del pluviómetro > 0:\")\n",
    "\n",
    "condicion = df_pluviometro['p1'] > 0\n",
    "df_pluviometro[condicion]"
   ]
  },
  {
   "cell_type": "code",
   "execution_count": 15,
   "metadata": {},
   "outputs": [
    {
     "data": {
      "text/html": [
       "<div>\n",
       "<style scoped>\n",
       "    .dataframe tbody tr th:only-of-type {\n",
       "        vertical-align: middle;\n",
       "    }\n",
       "\n",
       "    .dataframe tbody tr th {\n",
       "        vertical-align: top;\n",
       "    }\n",
       "\n",
       "    .dataframe thead th {\n",
       "        text-align: right;\n",
       "    }\n",
       "</style>\n",
       "<table border=\"1\" class=\"dataframe\">\n",
       "  <thead>\n",
       "    <tr style=\"text-align: right;\">\n",
       "      <th></th>\n",
       "      <th>p1</th>\n",
       "      <th>p2</th>\n",
       "      <th>p</th>\n",
       "    </tr>\n",
       "  </thead>\n",
       "  <tbody>\n",
       "    <tr>\n",
       "      <th>count</th>\n",
       "      <td>10836.000000</td>\n",
       "      <td>10836.000000</td>\n",
       "      <td>10836.000000</td>\n",
       "    </tr>\n",
       "    <tr>\n",
       "      <th>mean</th>\n",
       "      <td>0.276948</td>\n",
       "      <td>0.247554</td>\n",
       "      <td>0.285379</td>\n",
       "    </tr>\n",
       "    <tr>\n",
       "      <th>std</th>\n",
       "      <td>0.442580</td>\n",
       "      <td>0.427652</td>\n",
       "      <td>0.445839</td>\n",
       "    </tr>\n",
       "    <tr>\n",
       "      <th>min</th>\n",
       "      <td>0.084667</td>\n",
       "      <td>0.000000</td>\n",
       "      <td>0.084667</td>\n",
       "    </tr>\n",
       "    <tr>\n",
       "      <th>25%</th>\n",
       "      <td>0.084667</td>\n",
       "      <td>0.084667</td>\n",
       "      <td>0.084667</td>\n",
       "    </tr>\n",
       "    <tr>\n",
       "      <th>50%</th>\n",
       "      <td>0.169333</td>\n",
       "      <td>0.169333</td>\n",
       "      <td>0.169333</td>\n",
       "    </tr>\n",
       "    <tr>\n",
       "      <th>75%</th>\n",
       "      <td>0.254000</td>\n",
       "      <td>0.254000</td>\n",
       "      <td>0.254000</td>\n",
       "    </tr>\n",
       "    <tr>\n",
       "      <th>max</th>\n",
       "      <td>6.942667</td>\n",
       "      <td>6.942667</td>\n",
       "      <td>6.942667</td>\n",
       "    </tr>\n",
       "  </tbody>\n",
       "</table>\n",
       "</div>"
      ],
      "text/plain": [
       "                 p1            p2             p\n",
       "count  10836.000000  10836.000000  10836.000000\n",
       "mean       0.276948      0.247554      0.285379\n",
       "std        0.442580      0.427652      0.445839\n",
       "min        0.084667      0.000000      0.084667\n",
       "25%        0.084667      0.084667      0.084667\n",
       "50%        0.169333      0.169333      0.169333\n",
       "75%        0.254000      0.254000      0.254000\n",
       "max        6.942667      6.942667      6.942667"
      ]
     },
     "execution_count": 15,
     "metadata": {},
     "output_type": "execute_result"
    }
   ],
   "source": [
    "df_pluviometro[condicion].describe()"
   ]
  },
  {
   "cell_type": "code",
   "execution_count": 14,
   "metadata": {},
   "outputs": [
    {
     "data": {
      "text/html": [
       "<div>\n",
       "<style scoped>\n",
       "    .dataframe tbody tr th:only-of-type {\n",
       "        vertical-align: middle;\n",
       "    }\n",
       "\n",
       "    .dataframe tbody tr th {\n",
       "        vertical-align: top;\n",
       "    }\n",
       "\n",
       "    .dataframe thead th {\n",
       "        text-align: right;\n",
       "    }\n",
       "</style>\n",
       "<table border=\"1\" class=\"dataframe\">\n",
       "  <thead>\n",
       "    <tr style=\"text-align: right;\">\n",
       "      <th></th>\n",
       "      <th>p1</th>\n",
       "      <th>p2</th>\n",
       "      <th>p</th>\n",
       "    </tr>\n",
       "  </thead>\n",
       "  <tbody>\n",
       "    <tr>\n",
       "      <th>2019-05-03 16:00:00</th>\n",
       "      <td>0.0</td>\n",
       "      <td>0.0</td>\n",
       "      <td>0.0</td>\n",
       "    </tr>\n",
       "    <tr>\n",
       "      <th>2019-05-03 16:05:00</th>\n",
       "      <td>0.0</td>\n",
       "      <td>0.0</td>\n",
       "      <td>0.0</td>\n",
       "    </tr>\n",
       "    <tr>\n",
       "      <th>2019-05-03 16:10:00</th>\n",
       "      <td>0.0</td>\n",
       "      <td>0.0</td>\n",
       "      <td>0.0</td>\n",
       "    </tr>\n",
       "    <tr>\n",
       "      <th>2019-05-03 16:15:00</th>\n",
       "      <td>0.0</td>\n",
       "      <td>0.0</td>\n",
       "      <td>0.0</td>\n",
       "    </tr>\n",
       "    <tr>\n",
       "      <th>2019-05-03 16:20:00</th>\n",
       "      <td>0.0</td>\n",
       "      <td>0.0</td>\n",
       "      <td>0.0</td>\n",
       "    </tr>\n",
       "    <tr>\n",
       "      <th>...</th>\n",
       "      <td>...</td>\n",
       "      <td>...</td>\n",
       "      <td>...</td>\n",
       "    </tr>\n",
       "    <tr>\n",
       "      <th>2021-07-07 23:40:00</th>\n",
       "      <td>0.0</td>\n",
       "      <td>0.0</td>\n",
       "      <td>0.0</td>\n",
       "    </tr>\n",
       "    <tr>\n",
       "      <th>2021-07-07 23:45:00</th>\n",
       "      <td>0.0</td>\n",
       "      <td>0.0</td>\n",
       "      <td>0.0</td>\n",
       "    </tr>\n",
       "    <tr>\n",
       "      <th>2021-07-07 23:50:00</th>\n",
       "      <td>0.0</td>\n",
       "      <td>0.0</td>\n",
       "      <td>0.0</td>\n",
       "    </tr>\n",
       "    <tr>\n",
       "      <th>2021-07-07 23:55:00</th>\n",
       "      <td>0.0</td>\n",
       "      <td>0.0</td>\n",
       "      <td>0.0</td>\n",
       "    </tr>\n",
       "    <tr>\n",
       "      <th>2021-07-08 00:00:00</th>\n",
       "      <td>0.0</td>\n",
       "      <td>0.0</td>\n",
       "      <td>0.0</td>\n",
       "    </tr>\n",
       "  </tbody>\n",
       "</table>\n",
       "<p>229345 rows × 3 columns</p>\n",
       "</div>"
      ],
      "text/plain": [
       "                      p1   p2    p\n",
       "2019-05-03 16:00:00  0.0  0.0  0.0\n",
       "2019-05-03 16:05:00  0.0  0.0  0.0\n",
       "2019-05-03 16:10:00  0.0  0.0  0.0\n",
       "2019-05-03 16:15:00  0.0  0.0  0.0\n",
       "2019-05-03 16:20:00  0.0  0.0  0.0\n",
       "...                  ...  ...  ...\n",
       "2021-07-07 23:40:00  0.0  0.0  0.0\n",
       "2021-07-07 23:45:00  0.0  0.0  0.0\n",
       "2021-07-07 23:50:00  0.0  0.0  0.0\n",
       "2021-07-07 23:55:00  0.0  0.0  0.0\n",
       "2021-07-08 00:00:00  0.0  0.0  0.0\n",
       "\n",
       "[229345 rows x 3 columns]"
      ]
     },
     "execution_count": 14,
     "metadata": {},
     "output_type": "execute_result"
    }
   ],
   "source": [
    "# Operaciones en columnas\n",
    "df_pluviometro['p'] = df_pluviometro[['p1', 'p2']].max(axis=1)\n",
    "\n",
    "df_pluviometro"
   ]
  },
  {
   "cell_type": "code",
   "execution_count": 16,
   "metadata": {},
   "outputs": [
    {
     "data": {
      "text/plain": [
       "p1    0.013085\n",
       "p2    0.012171\n",
       "p     0.013959\n",
       "dtype: float64"
      ]
     },
     "execution_count": 16,
     "metadata": {},
     "output_type": "execute_result"
    }
   ],
   "source": [
    "df_pluviometro.mean()"
   ]
  },
  {
   "cell_type": "markdown",
   "metadata": {},
   "source": [
    "## 🏗️ Carga y preparación de datos de sensores geotécnicos"
   ]
  },
  {
   "cell_type": "code",
   "execution_count": 17,
   "metadata": {},
   "outputs": [
    {
     "data": {
      "text/html": [
       "<div>\n",
       "<style scoped>\n",
       "    .dataframe tbody tr th:only-of-type {\n",
       "        vertical-align: middle;\n",
       "    }\n",
       "\n",
       "    .dataframe tbody tr th {\n",
       "        vertical-align: top;\n",
       "    }\n",
       "\n",
       "    .dataframe thead th {\n",
       "        text-align: right;\n",
       "    }\n",
       "</style>\n",
       "<table border=\"1\" class=\"dataframe\">\n",
       "  <thead>\n",
       "    <tr style=\"text-align: right;\">\n",
       "      <th></th>\n",
       "      <th>sh1</th>\n",
       "    </tr>\n",
       "    <tr>\n",
       "      <th>TIMESTAMP</th>\n",
       "      <th></th>\n",
       "    </tr>\n",
       "  </thead>\n",
       "  <tbody>\n",
       "    <tr>\n",
       "      <th>2020-03-11 17:00:00</th>\n",
       "      <td>60.003714</td>\n",
       "    </tr>\n",
       "    <tr>\n",
       "      <th>2020-03-11 17:05:00</th>\n",
       "      <td>60.003714</td>\n",
       "    </tr>\n",
       "    <tr>\n",
       "      <th>2020-03-11 17:10:00</th>\n",
       "      <td>60.003714</td>\n",
       "    </tr>\n",
       "    <tr>\n",
       "      <th>2020-03-11 17:15:00</th>\n",
       "      <td>60.003714</td>\n",
       "    </tr>\n",
       "    <tr>\n",
       "      <th>2020-03-11 17:20:00</th>\n",
       "      <td>60.003714</td>\n",
       "    </tr>\n",
       "    <tr>\n",
       "      <th>...</th>\n",
       "      <td>...</td>\n",
       "    </tr>\n",
       "    <tr>\n",
       "      <th>2021-06-01 11:40:00</th>\n",
       "      <td>60.917586</td>\n",
       "    </tr>\n",
       "    <tr>\n",
       "      <th>2021-06-01 11:45:00</th>\n",
       "      <td>60.917586</td>\n",
       "    </tr>\n",
       "    <tr>\n",
       "      <th>2021-06-01 11:50:00</th>\n",
       "      <td>60.917586</td>\n",
       "    </tr>\n",
       "    <tr>\n",
       "      <th>2021-06-01 11:55:00</th>\n",
       "      <td>60.917586</td>\n",
       "    </tr>\n",
       "    <tr>\n",
       "      <th>2021-06-01 12:00:00</th>\n",
       "      <td>60.917586</td>\n",
       "    </tr>\n",
       "  </tbody>\n",
       "</table>\n",
       "<p>128677 rows × 1 columns</p>\n",
       "</div>"
      ],
      "text/plain": [
       "                           sh1\n",
       "TIMESTAMP                     \n",
       "2020-03-11 17:00:00  60.003714\n",
       "2020-03-11 17:05:00  60.003714\n",
       "2020-03-11 17:10:00  60.003714\n",
       "2020-03-11 17:15:00  60.003714\n",
       "2020-03-11 17:20:00  60.003714\n",
       "...                        ...\n",
       "2021-06-01 11:40:00  60.917586\n",
       "2021-06-01 11:45:00  60.917586\n",
       "2021-06-01 11:50:00  60.917586\n",
       "2021-06-01 11:55:00  60.917586\n",
       "2021-06-01 12:00:00  60.917586\n",
       "\n",
       "[128677 rows x 1 columns]"
      ]
     },
     "execution_count": 17,
     "metadata": {},
     "output_type": "execute_result"
    }
   ],
   "source": [
    "import pandas as pd\n",
    "\n",
    "df_humedad = pd.read_csv('../data/humedad.csv', index_col=0)\n",
    "df_humedad.index = pd.to_datetime(df_humedad.index)\n",
    "\n",
    "# Mostrar el df\n",
    "df_humedad"
   ]
  },
  {
   "cell_type": "code",
   "execution_count": 19,
   "metadata": {},
   "outputs": [
    {
     "data": {
      "text/html": [
       "<div>\n",
       "<style scoped>\n",
       "    .dataframe tbody tr th:only-of-type {\n",
       "        vertical-align: middle;\n",
       "    }\n",
       "\n",
       "    .dataframe tbody tr th {\n",
       "        vertical-align: top;\n",
       "    }\n",
       "\n",
       "    .dataframe thead th {\n",
       "        text-align: right;\n",
       "    }\n",
       "</style>\n",
       "<table border=\"1\" class=\"dataframe\">\n",
       "  <thead>\n",
       "    <tr style=\"text-align: right;\">\n",
       "      <th></th>\n",
       "      <th>p1</th>\n",
       "      <th>p2</th>\n",
       "      <th>p</th>\n",
       "      <th>sh1</th>\n",
       "    </tr>\n",
       "  </thead>\n",
       "  <tbody>\n",
       "    <tr>\n",
       "      <th>2019-05-03 16:00:00</th>\n",
       "      <td>0.0</td>\n",
       "      <td>0.0</td>\n",
       "      <td>0.0</td>\n",
       "      <td>NaN</td>\n",
       "    </tr>\n",
       "    <tr>\n",
       "      <th>2019-05-03 16:05:00</th>\n",
       "      <td>0.0</td>\n",
       "      <td>0.0</td>\n",
       "      <td>0.0</td>\n",
       "      <td>NaN</td>\n",
       "    </tr>\n",
       "    <tr>\n",
       "      <th>2019-05-03 16:10:00</th>\n",
       "      <td>0.0</td>\n",
       "      <td>0.0</td>\n",
       "      <td>0.0</td>\n",
       "      <td>NaN</td>\n",
       "    </tr>\n",
       "    <tr>\n",
       "      <th>2019-05-03 16:15:00</th>\n",
       "      <td>0.0</td>\n",
       "      <td>0.0</td>\n",
       "      <td>0.0</td>\n",
       "      <td>NaN</td>\n",
       "    </tr>\n",
       "    <tr>\n",
       "      <th>2019-05-03 16:20:00</th>\n",
       "      <td>0.0</td>\n",
       "      <td>0.0</td>\n",
       "      <td>0.0</td>\n",
       "      <td>NaN</td>\n",
       "    </tr>\n",
       "  </tbody>\n",
       "</table>\n",
       "</div>"
      ],
      "text/plain": [
       "                      p1   p2    p  sh1\n",
       "2019-05-03 16:00:00  0.0  0.0  0.0  NaN\n",
       "2019-05-03 16:05:00  0.0  0.0  0.0  NaN\n",
       "2019-05-03 16:10:00  0.0  0.0  0.0  NaN\n",
       "2019-05-03 16:15:00  0.0  0.0  0.0  NaN\n",
       "2019-05-03 16:20:00  0.0  0.0  0.0  NaN"
      ]
     },
     "execution_count": 19,
     "metadata": {},
     "output_type": "execute_result"
    }
   ],
   "source": [
    "df_unido = pd.concat([df_pluviometro, df_humedad], axis=1)\n",
    "\n",
    "df_unido['p'] = df_unido[['p1', 'p2']].max(axis=1)\n",
    "\n",
    "df_unido.head()"
   ]
  },
  {
   "cell_type": "code",
   "execution_count": 20,
   "metadata": {},
   "outputs": [],
   "source": [
    "# Exportar\n",
    "df_unido.to_csv('../data/df_compilado.csv', index=True)"
   ]
  },
  {
   "cell_type": "markdown",
   "metadata": {},
   "source": [
    "## 🏆 Ejercicio práctico: Análisis y limpieza de datos\n",
    "\n",
    "**Objetivo:** Lee las series de tiempo de los sensores y realiza la limpieza, preparación y unión de las series de tiempo.\n",
    "\n",
    "**Instrucciones**\n",
    "\n",
    "1. Lee los csv de los sensores: pluviómetro, humedad, extensómetro y acelerómetro usando pandas.\n",
    "2. Identifica qué columnas contiene, las estadísticas básicas de cada una y las fechas asociadas a la serie de tiempo.\n",
    "3. Usando una función, identifica valores anómalos.\n",
    "4. Usando una función, identifica los valores faltantes.\n",
    "4. Une las series de tiempo en un solo dataframe.\n",
    "5. Exporta los resultados para posteriores análisis."
   ]
  },
  {
   "cell_type": "markdown",
   "metadata": {},
   "source": [
    "## 📚 Apéndice: Tablas de referencia y funciones útiles\n",
    "\n",
    "### Convención\n",
    "\n",
    "| **Identificador** | **Significado**                          |\n",
    "|------------------|--------------------------------------|\n",
    "| `pd`            | Representa la librería **Pandas**    |\n",
    "| `np`            | Representa la librería **NumPy**     |\n",
    "| `df`            | Representa una variable que contiene un **DataFrame** |\n",
    "\n",
    "## Lectura de datos\n",
    "\n",
    "### Lectura de datos\n",
    "\n",
    "| **Función o elemento**  | **Descripción**  | **Tipo de retorno** | **Guardado** |\n",
    "|-------------------------|-----------------|---------------------|--------------|\n",
    "| `pd.read_csv()`        | Carga datos delimitados desde un archivo o URL; usa la coma como delimitador predeterminado. | `DataFrame` | `df.to_csv()` |\n",
    "| `pd.read_excel()`      | Lee datos tabulares desde un archivo Excel en formato XLS o XLSX. | `DataFrame` | `df.to_excel()` |\n",
    "| `pd.read_html()`       | Lee todas las tablas encontradas en un documento HTML dado. | `Lista de DataFrame` | `df.to_html()` |\n",
    "| `pd.read_xml()`        | Lee una tabla de datos desde un archivo XML. | `DataFrame` | `df.to_xml()` |\n",
    "| `pd.read_stata()`      | Lee un conjunto de datos en formato de archivo Stata. | `DataFrame` | `df.to_stata()` |\n",
    "\n",
    "## DataFrames y Series (Pandas)\n",
    "\n",
    "### Bases DataFrame: Lectura, Impresión y Retorno de Información\n",
    "\n",
    "| **Función o elemento**  | **Descripción**  | **Tipo de retorno** |\n",
    "|-------------------------|-----------------|---------------------|\n",
    "| `df`                   | Retorna el DataFrame completo. | `DataFrame` |\n",
    "| `print(df)`            | Imprime el DataFrame en formato texto. | `No aplica` |\n",
    "| `display(df)`          | Imprime el DataFrame en formato tabla mejorado. | `No aplica` |\n",
    "| `df.iloc[0]`           | Retorna la primera fila del DataFrame (sin importar el índice de filas). | `Series` |\n",
    "| `s_primera_fila = df.iloc[0]` | Crea una variable `Series` que contiene los datos asociados a la primera fila (sin importar el índice de filas). | `No aplica` |\n",
    "| `df.loc[0]`            | Retorna la fila del DataFrame asociado al índice de fila 0. | `Series` |\n",
    "| `s_fila_0 = df.loc[0]` | Crea una variable `Series` que contiene los datos asociados a la fila con el índice de fila 0. | `No aplica` |\n",
    "| `df.loc[0, \"col\"]`     | Retorna el valor almacenado en la columna `\"col\"` correspondiente a la fila con índice 0. | `Escalar` |\n",
    "| `df[[\"col1\",\"col2\",\"col3\"]]` | Retorna un DataFrame que solo contiene las columnas `\"col1\"`, `\"col2\"` y `\"col3\"` del DataFrame original. | `DataFrame` |\n",
    "| `df[\"col\"]`            | Retorna una columna específica del DataFrame. | `Series` |\n",
    "| `s_col = df[\"col\"]`    | Crea una variable `Series` que contiene los valores de la columna `\"col\"` del DataFrame. | `No aplica` |\n",
    "| `df[\"col\"][0]`         | Retorna el valor almacenado en la columna `\"col\"` correspondiente a la fila con índice 0. | `Escalar` |\n",
    "| `df.columns.tolist()`  | Retorna una lista con los índices de las columnas. | `List` |\n",
    "| `df.index.tolist()`    | Retorna una lista con los índices de las filas. | `List` |\n",
    "| `df.dtypes`            | Retorna los tipos de los datos de las columnas. | `Series` |\n",
    "| `df.head(n)`           | Retorna las primeras `n` filas del DataFrame (por defecto retorna las primeras 5). | `DataFrame` |\n",
    "| `df.tail(n)`           | Retorna las últimas `n` filas del DataFrame (por defecto retorna las últimas 5). | `DataFrame` |\n",
    "| `df.info()`            | Imprime información general del DataFrame, como tipos de datos y valores nulos. | `No aplica` |\n",
    "| `df.describe()`        | Retorna estadísticas descriptivas de las columnas numéricas. | `DataFrame` |\n",
    "\n",
    "### Bases DataFrame: Modificación y Borrado\n",
    "\n",
    "| **Función o elemento**  | **Descripción**  | **Tipo de retorno** |\n",
    "|-------------------------|-----------------|---------------------|\n",
    "| `df.loc[0, \"col\"] = 5` | Modifica el valor almacenado en la columna `\"col\"`, en la fila con índice `0`, y lo reemplaza por `5`. Si `\"col\"` no existe, la crea. | `No aplica` |\n",
    "| `df[\"col\"] = \"Hola\"`   | Modifica todos los valores en la columna `\"col\"` y los reemplaza por `\"Hola\"`. Si `\"col\"` no existe, la crea con el valor `\"Hola\"`. | `No aplica` |\n",
    "| `df[\"col\"] = df[\"col\"] * 2` | Modifica todos los valores en la columna `\"col\"`, duplicándolos. | `No aplica` |\n",
    "| `df[\"col\"] = np.round(df[\"col\"], 2)` | Modifica todos los valores en la columna `\"col\"` del DataFrame redondeando los decimales a dos cifras. | `No aplica` |\n",
    "| `df = df.drop(0, axis=0)` | Borra la fila con índice `0` del DataFrame. | `No aplica` |\n",
    "| `df = df.drop(columns=\"col\")` | Borra la columna `\"col\"` del DataFrame. | `No aplica` |\n",
    "| `df = pd.concat([df, df1], axis=1)` | Modifica `df`, ahora será un DataFrame concatenado de `df` más `df1`. `axis=1` indica que la concatenación se realiza por columnas, basado en los índices de filas de ambos DataFrames. | `No aplica` |\n",
    "\n",
    "### Bases Series: Lectura, Impresión y Retorno de Información\n",
    "\n",
    "| **Función o elemento**  | **Descripción**  | **Tipo de retorno** |\n",
    "|-------------------------|-----------------|---------------------|\n",
    "| `s`                    | Retorna la `Series` completa. | `Series` |\n",
    "| `print(s)`             | Imprime la `Series` en formato texto. | `No aplica` |\n",
    "| `display(s)`           | Imprime la `Series` en formato tabla mejorado. | `No aplica` |\n",
    "| `s.iloc[0]`            | Retorna el primer valor de la `Series` (sin importar el índice). | `Escalar` |\n",
    "| `s.loc[0]`            | Retorna el valor de la `Series` asociado al índice `0` (aplica cuando los índices son números). | `Escalar` |\n",
    "| `s.loc[\"col\"]`         | Retorna el valor de la `Series` asociado al índice `\"col\"` (aplica cuando los índices son texto). | `Escalar` |\n",
    "| `s.index.tolist()`     | Retorna una lista con los índices de la `Series`. | `List` |\n",
    "| `s.value_counts()`     | Retorna la cantidad de veces que aparece cada valor en la `Series`. Ignora valores `NaN` por defecto. Para incluirlos, usar `dropna=False`. | `Series` |\n",
    "| `s.sort_values()`      | Retorna los valores de la `Series` ordenados de menor a mayor (o de mayor a menor con `ascending=False`). | `Series` |\n",
    "| `s.mean()`             | Retorna el promedio de los valores de la `Series`. | `Escalar` |\n",
    "| `s.sum()`             | Retorna la suma de los valores de la `Series`. | `Escalar` |\n",
    "| `s.min()`             | Retorna el valor mínimo de la `Series`. | `Escalar` |\n",
    "| `s.max()`             | Retorna el valor máximo de la `Series`. | `Escalar` |\n",
    "| `s[s > 5]`            | Retorna los valores de la `Series` que cumplen la condición definida (en este caso, los valores mayores a `5`). | `Series` |\n",
    "| `s_filtrada = s[s > 5]` | Crea una nueva variable `Series` con los valores mayores a `5` de la `Series` `\"s\"`. | `No aplica` |\n",
    "\n",
    "## Limpieza y preparación de datos\n",
    "\n",
    "### Datos Faltantes\n",
    "\n",
    "| **Función o elemento**  | **Descripción**  | **Tipo de retorno** |\n",
    "|-------------------------|-----------------|---------------------|\n",
    "| `df = df.replace(\"?\", np.NaN)` | Reemplaza los valores `\"?\"` en `df` con `NaN` (datos faltantes). | `No aplica` |\n",
    "| `df.isna()`            | Retorna un `DataFrame` booleano con `True` en posiciones donde hay `NaN`. | `DataFrame` |\n",
    "| `s.isna()`             | Retorna una `Series` booleana con `True` en posiciones donde hay `NaN`. | `Series` |\n",
    "| `df = df.fillna(0)`    | Reemplaza todos los valores `NaN` en `df` con `0`. | `No aplica` |\n",
    "| `df = df.dropna(axis=0)` | Elimina todas las filas del `DataFrame` que contienen `NaN`. `axis=0` borra filas, `axis=1` borra columnas. | `No aplica` |\n",
    "| `df = df.dropna(subset=[\"col\"])` | Elimina solo las filas donde `\"col\"` tiene `NaN`. | `No aplica` |\n",
    "\n",
    "### Reemplazo por Valor Estándar, Promedio y Valor Más Frecuente\n",
    "\n",
    "| **Función o elemento**  | **Descripción** |\n",
    "|-------------------------|----------------|\n",
    "| `df[\"col\"] = df[\"col\"].replace(np.NaN, \"Hola\")` | Reemplaza los valores `NaN` en `\"col\"` de `df` con un valor estándar (ej: `\"Hola\"`). |\n",
    "| `mean = df[\"col\"].astype(\"float\").mean()` <br> `df[\"col\"] = df[\"col\"].replace(np.NaN, mean)` | Calcula el promedio de la columna `\"col\"`. Y Reemplaza los valores `NaN` en `\"col\"` de `df` con el promedio de la columna. |\n",
    "| `idxmax = df[\"col\"].value_counts().idxmax()` <br> `df[\"col\"] = df[\"col\"].replace(np.NaN, idxmax)` | Encuentra el valor más frecuente de la columna `\"col\"`. Y  Reemplaza los valores `NaN` en `\"col\"` con el valor más frecuente de la columna. |\n",
    "| `valmax = df[\"col\"].mode()[0]` <br> `df[\"col\"] = df[\"col\"].replace(np.NaN, valmax)` | Encuentra el valor más frecuente de la columna `\"col\"` (otra forma). Y  Reemplaza los valores `NaN` en `\"col\"` con el valor más frecuente de la columna. |\n",
    "\n",
    "### Formateo de Datos\n",
    "\n",
    "| **Función o elemento**  | **Descripción** |\n",
    "|-------------------------|----------------|\n",
    "| `df[\"col\"] = df[\"col\"].replace(\"viejo\", \"nuevo\")` | Reemplaza los valores `\"viejo\"` en `\"col\"` de `df` con `\"nuevo\"`. |\n",
    "| `df = df.rename(columns={\"viejo\":\"nuevo\"})` | Cambia el nombre de la columna `\"viejo\"` a `\"nuevo\"` en `df`. |\n",
    "| `df[\"col\"] = df[\"col\"].astype(\"float\")` | Convierte los valores de la columna `\"col\"` al tipo de dato `\"float\"`. |\n",
    "\n",
    "### Normalización\n",
    "\n",
    "| **Función o elemento** | **Descripción** |\n",
    "|------------------------|----------------|\n",
    "| `df[\"col_normalizada\"] = df[\"col\"]/df[\"col\"].max()` | Crea una columna normalizada llamada `\"col_normalizada\"` utilizando **Simple Feature Scaling**. Este método escala en función del valor máximo y no garantiza un rango fijo de los datos. |\n",
    "| `df[\"col_normalizada\"] = (df[\"col\"] - df[\"col\"].min()) / (df[\"col\"].max() - df[\"col\"].min())` | Crea una columna normalizada llamada `\"col_normalizada\"` utilizando **Min-Max Scaling**. Este método escala en un rango fijo (0 a 1). |"
   ]
  },
  {
   "cell_type": "markdown",
   "metadata": {},
   "source": [
    "## 🏁 Conclusión y recursos adicionales\n",
    "\n",
    "En esta primera clase aprendiste los fundamentos de Python aplicados a la ingeniería y la geotecnia: variables, operaciones, estructuras de control, funciones, listas y la manipulación básica de datos con pandas. Estos conceptos son la base para automatizar tareas, analizar datos de sensores y resolver problemas reales en tu campo profesional.\n",
    "\n",
    "**¿Qué sigue?**\n",
    "- Profundizar en el análisis y visualización de datos.\n",
    "- Aprender a detectar y tratar valores anómalos y faltantes.\n",
    "- Integrar datos de diferentes sensores para análisis avanzados.\n",
    "\n",
    "**Recursos útiles:**\n",
    "- [Documentación oficial de Python](https://docs.python.org/es/3/)\n",
    "- [Tutorial de Python para principiantes (YouTube)](https://www.youtube.com/watch?v=Kp4Mvapo5kc)\n",
    "- [Documentación de pandas](https://pandas.pydata.org/pandas-docs/stable/index.html)\n",
    "- [Cheat sheet de Python (PDF)](https://media.datacamp.com/cms/python-basics-cheat-sheet-v3.pdf)\n",
    "\n",
    "¡Sigue practicando y experimentando con tus propios datos e ideas!"
   ]
  }
 ],
 "metadata": {
  "colab": {
   "provenance": [],
   "toc_visible": true
  },
  "kernel_info": {
   "name": "python"
  },
  "kernelspec": {
   "display_name": "venv",
   "language": "python",
   "name": "python3"
  },
  "language_info": {
   "codemirror_mode": {
    "name": "ipython",
    "version": 3
   },
   "file_extension": ".py",
   "mimetype": "text/x-python",
   "name": "python",
   "nbconvert_exporter": "python",
   "pygments_lexer": "ipython3",
   "version": "3.9.6"
  },
  "nteract": {
   "version": "nteract-front-end@1.0.0"
  }
 },
 "nbformat": 4,
 "nbformat_minor": 0
}
